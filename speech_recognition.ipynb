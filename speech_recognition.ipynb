{
  "nbformat": 4,
  "nbformat_minor": 0,
  "metadata": {
    "colab": {
      "provenance": [],
      "authorship_tag": "ABX9TyNU74Dh48WjD6UWy/i5DB9b",
      "include_colab_link": true
    },
    "kernelspec": {
      "name": "python3",
      "display_name": "Python 3"
    },
    "language_info": {
      "name": "python"
    }
  },
  "cells": [
    {
      "cell_type": "markdown",
      "metadata": {
        "id": "view-in-github",
        "colab_type": "text"
      },
      "source": [
        "<a href=\"https://colab.research.google.com/github/siddhardhadandi/PROJECT/blob/main/speech_recognition.ipynb\" target=\"_parent\"><img src=\"https://colab.research.google.com/assets/colab-badge.svg\" alt=\"Open In Colab\"/></a>"
      ]
    },
    {
      "cell_type": "code",
      "source": [
        "!pip install SpeechRecognition pydub\n",
        "\n",
        "import speech_recognition as sr\n",
        "from pydub import AudioSegment\n",
        "from pydub.utils import make_chunks\n",
        "\n",
        "def recognize_speech_from_audio_file(file_path):\n",
        "    recognizer = sr.Recognizer()\n",
        "\n",
        "    # Load the audio file\n",
        "    audio = AudioSegment.from_file(file_path)\n",
        "\n",
        "    # Split the audio into chunks for better recognition\n",
        "    chunk_length_ms = 5000  # Split audio into 5-second chunks\n",
        "    chunks = make_chunks(audio, chunk_length_ms)\n",
        "\n",
        "    recognized_text = \"\"\n",
        "\n",
        "    for i, chunk in enumerate(chunks):\n",
        "        chunk_name = f\"chunk{i}.wav\"\n",
        "        chunk.export(chunk_name, format=\"wav\")\n",
        "\n",
        "        with sr.AudioFile(chunk_name) as source:\n",
        "            audio_data = recognizer.record(source)\n",
        "\n",
        "            try:\n",
        "                chunk_text = recognizer.recognize_google(audio_data)\n",
        "                recognized_text += chunk_text + \" \"\n",
        "                print(f\"Recognized Text from chunk {i}: {chunk_text}\")\n",
        "            except sr.UnknownValueError:\n",
        "                print(f\"Could not understand chunk {i}\")\n",
        "            except sr.RequestError as e:\n",
        "                print(f\"Error occurred in chunk {i}: {e}\")\n",
        "\n",
        "    return recognized_text\n",
        "\n",
        "# Provide the path to the audio file\n",
        "file_path = \"/content/sample-0.mp3\"\n",
        "\n",
        "recognized_text = recognize_speech_from_audio_file(file_path)\n",
        "print(\"Recognized Text:\")\n",
        "print(recognized_text)\n"
      ],
      "metadata": {
        "colab": {
          "base_uri": "https://localhost:8080/"
        },
        "id": "vvBDpDi2rnHv",
        "outputId": "ee3791e6-8279-48cd-dcc7-4cb3ddf9114a"
      },
      "execution_count": null,
      "outputs": [
        {
          "output_type": "stream",
          "name": "stdout",
          "text": [
            "Requirement already satisfied: SpeechRecognition in /usr/local/lib/python3.10/dist-packages (3.10.3)\n",
            "Requirement already satisfied: pydub in /usr/local/lib/python3.10/dist-packages (0.25.1)\n",
            "Requirement already satisfied: requests>=2.26.0 in /usr/local/lib/python3.10/dist-packages (from SpeechRecognition) (2.31.0)\n",
            "Requirement already satisfied: typing-extensions in /usr/local/lib/python3.10/dist-packages (from SpeechRecognition) (4.11.0)\n",
            "Requirement already satisfied: charset-normalizer<4,>=2 in /usr/local/lib/python3.10/dist-packages (from requests>=2.26.0->SpeechRecognition) (3.3.2)\n",
            "Requirement already satisfied: idna<4,>=2.5 in /usr/local/lib/python3.10/dist-packages (from requests>=2.26.0->SpeechRecognition) (3.7)\n",
            "Requirement already satisfied: urllib3<3,>=1.21.1 in /usr/local/lib/python3.10/dist-packages (from requests>=2.26.0->SpeechRecognition) (2.0.7)\n",
            "Requirement already satisfied: certifi>=2017.4.17 in /usr/local/lib/python3.10/dist-packages (from requests>=2.26.0->SpeechRecognition) (2024.2.2)\n",
            "Recognized Text from chunk 0: Mr Rochester\n",
            "Recognized Text from chunk 1: stop and that's so don't find symptoms and devoted about to head might\n",
            "Could not understand chunk 2\n",
            "Recognized Text:\n",
            "Mr Rochester stop and that's so don't find symptoms and devoted about to head might \n"
          ]
        }
      ]
    }
  ]
}